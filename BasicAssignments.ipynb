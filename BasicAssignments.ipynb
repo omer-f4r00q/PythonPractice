{
 "cells": [
  {
   "cell_type": "markdown",
   "id": "a66f14b7-aa46-4186-8ed2-7ef2d1fa02a3",
   "metadata": {},
   "source": [
    "## Assignment 1: Student Grade Analyzer\n",
    "\n",
    "### Objective: Write a Python program that takes marks for multiple subjects from a student, calculates the total, average, and assigns a grade.\n",
    "### Requirements:\n",
    "### -Ask the user to input the number of subjects.\n",
    "### -For each subject, ask the user to input the name of the subject and the marks obtained (out of 100). Store these (perhaps in a list of dictionaries or a dictionary).\n",
    "### -Calculate the total marks obtained and the overall percentage.\n",
    "### -Assign a grade based on the percentage:\n",
    "###    -90% and above: Grade A\n",
    "###    -80% - 89%: Grade B\n",
    "###    -70% - 79%: Grade C\n",
    "###    -60% - 69%: Grade D\n",
    "###    -Below 60%: Grade F\n",
    "### -Display the subject-wise marks, total marks, overall percentage (formatted to 2 decimal places), and the final grade.\n",
    "### -Concepts Tested: User input, loops (for and/or while), data structures (lists, dictionaries), arithmetic operations, conditional statements (if/elif/else), string formatting."
   ]
  },
  {
   "cell_type": "markdown",
   "id": "8a0637dd-98a0-4028-871b-49f624536321",
   "metadata": {},
   "source": [
    "#### Method 1 (Basic, without user-defined functions)"
   ]
  },
  {
   "cell_type": "code",
   "execution_count": 7,
   "id": "49cf7db4-e1a4-4afc-9533-ca7e36275f9d",
   "metadata": {},
   "outputs": [
    {
     "name": "stdin",
     "output_type": "stream",
     "text": [
      "Enter the number of subjects:  4\n",
      "Enter the name of the subject:  Urdu\n",
      "Enter the  marks obtained:  55\n",
      "Enter the name of the subject:  English\n",
      "Enter the  marks obtained:  67\n",
      "Enter the name of the subject:  Maths\n",
      "Enter the  marks obtained:  43\n",
      "Enter the name of the subject:  Science\n",
      "Enter the  marks obtained:  81\n"
     ]
    },
    {
     "name": "stdout",
     "output_type": "stream",
     "text": [
      "\n",
      "Subject-wise marks are as follows:\n",
      "Subject: Urdu, Marks: 55\n",
      "Subject: English, Marks: 67\n",
      "Subject: Maths, Marks: 43\n",
      "Subject: Science, Marks: 81\n",
      "\n",
      "Total Marks Obtained: 246\n",
      "\n",
      "Overall Percentage: 61.50%\n",
      "\n",
      "Final Grade: D\n"
     ]
    }
   ],
   "source": [
    "number_of_subjects = int(input(\"Enter the number of subjects: \"))\n",
    "subjects = []\n",
    "marks = []\n",
    "for i in range(number_of_subjects):\n",
    "    subjects.append(input(\"Enter the name of the subject: \"))\n",
    "    marks.append(int(input(\"Enter the  marks obtained: \")))\n",
    "total_marks = sum(marks)\n",
    "overall_percentage = (total_marks/(number_of_subjects*100))*100\n",
    "if overall_percentage >= 90:\n",
    "    grade = 'A'\n",
    "elif 90 > overall_percentage >= 80: \n",
    "    grade = 'B'\n",
    "elif 80 > overall_percentage >= 70:\n",
    "    grade = 'C'\n",
    "elif 70 > overall_percentage >= 60:\n",
    "    grade = 'D'\n",
    "else:\n",
    "    grade = 'F'\n",
    "\n",
    "print(\"\\nSubject-wise marks are as follows:\")\n",
    "for i in range(number_of_subjects):\n",
    "    print(f\"Subject: {subjects[i]}, Marks: {marks[i]}\")\n",
    "\n",
    "print(f\"\\nTotal Marks Obtained: {total_marks}\\n\")\n",
    "print(f\"Overall Percentage: {overall_percentage:.2f}%\\n\")\n",
    "print(f\"Final Grade: {grade}\")\n",
    "    "
   ]
  },
  {
   "cell_type": "markdown",
   "id": "92a6c0d2-f7c4-4089-b216-eb696e2de571",
   "metadata": {},
   "source": [
    "#### Method 2 (Using user-defined functions, using dictionary instead of list)"
   ]
  },
  {
   "cell_type": "code",
   "execution_count": 15,
   "id": "42dee2ea-7dfe-4b45-b128-203a7faa7278",
   "metadata": {},
   "outputs": [
    {
     "name": "stdin",
     "output_type": "stream",
     "text": [
      "Enter the number of subjects:  4\n",
      "\n",
      "Enter the name of the subject:  urdu\n",
      "Enter the  marks obtained:  55\n",
      "\n",
      "Enter the name of the subject:  english\n",
      "Enter the  marks obtained:  64\n",
      "\n",
      "Enter the name of the subject:  maths\n",
      "Enter the  marks obtained:  24\n",
      "\n",
      "Enter the name of the subject:  science\n",
      "Enter the  marks obtained:  52\n"
     ]
    },
    {
     "name": "stdout",
     "output_type": "stream",
     "text": [
      "\n",
      "Subject-wise marks are as follows:\n",
      "Subject: urdu, Marks: 55\n",
      "Subject: english, Marks: 64\n",
      "Subject: maths, Marks: 24\n",
      "Subject: science, Marks: 52\n",
      "\n",
      "Total Marks Obtained: 195\n",
      "\n",
      "Overall Percentage: 48.75%\n",
      "\n",
      "Final Grade: F\n"
     ]
    }
   ],
   "source": [
    "def main():\n",
    "    number_of_subjects = int(input(\"Enter the number of subjects: \"))\n",
    "    sub_marks = get_sub_marks(number_of_subjects)\n",
    "    marks =list(sub_marks.values())\n",
    "    total_marks = sum(marks)\n",
    "    overall_percentage = (total_marks/(number_of_subjects*100))*100\n",
    "    grade = grade_generator(overall_percentage)\n",
    "    marks_printer(sub_marks)\n",
    "    print(f\"\\nTotal Marks Obtained: {total_marks}\\n\")\n",
    "    print(f\"Overall Percentage: {overall_percentage:.2f}%\\n\")\n",
    "    print(f\"Final Grade: {grade}\")\n",
    "\n",
    "\n",
    "def get_sub_marks(n): # n is the number of subjects\n",
    "    sub_marks = {}\n",
    "    for i in range(n):\n",
    "        subject = (input(\"\\nEnter the name of the subject: \"))\n",
    "        marks = int(input(\"Enter the  marks obtained: \"))\n",
    "        sub_marks.update({subject:int(marks)})\n",
    "        '''above line can also be written as:\n",
    "        sub_marks[subject] = marks'''\n",
    "        \n",
    "    return sub_marks\n",
    "\n",
    "\n",
    "def grade_generator(m): #m is the overall percentage\n",
    "    if m >= 90:\n",
    "        return 'A'\n",
    "    elif 90 > m >= 80: \n",
    "        return 'B'\n",
    "    elif 80 > m >= 70:\n",
    "        return 'C'\n",
    "    elif 70 > m >= 60:\n",
    "        return 'D'\n",
    "    else:\n",
    "        return 'F'\n",
    "        \n",
    "\n",
    "def marks_printer(dict1): #dict1 is the dictionary that stores the subjects and  marks\n",
    "    print(\"\\nSubject-wise marks are as follows:\")\n",
    "    for i in dict1:\n",
    "        print(f\"Subject: {i}, Marks: {dict1[i]}\")\n",
    "    # you can use the below code also but above one is much simpler \n",
    "''' for i in range(number_of_subjects):\n",
    "        print(f\"Subject: {list(sub_mark.keys())[i]}, Marks: {sub_mark[list(sub_mark.keys())[i]]}\")'''\n",
    "\n",
    "main()\n",
    "    \n",
    "    "
   ]
  },
  {
   "cell_type": "markdown",
   "id": "c97f3df9-c2da-4064-b81f-e9258e731f98",
   "metadata": {},
   "source": [
    "### Method 3: making the code robust"
   ]
  },
  {
   "cell_type": "code",
   "execution_count": 1,
   "id": "cb820f11-d6ae-4d8f-a615-e06a5f252549",
   "metadata": {},
   "outputs": [
    {
     "name": "stdin",
     "output_type": "stream",
     "text": [
      "Enter the number of subjects:  1\n",
      "\n",
      "Enter the name of the subject:  a\n",
      "Enter the  marks obtained (0-100):  99'\n"
     ]
    },
    {
     "name": "stdout",
     "output_type": "stream",
     "text": [
      "the input needs to be a whole number\n"
     ]
    },
    {
     "name": "stdin",
     "output_type": "stream",
     "text": [
      "Enter the  marks obtained (0-100):  99\n"
     ]
    },
    {
     "name": "stdout",
     "output_type": "stream",
     "text": [
      "\n",
      "Subject-wise marks are as follows:\n",
      "Subject: a, Marks: 99\n",
      "\n",
      "Total Marks Obtained: 99\n",
      "\n",
      "Overall Percentage: 99.00%\n",
      "\n",
      "Final Grade: A\n"
     ]
    }
   ],
   "source": [
    "def main():\n",
    "    #adding try except block in the while loop to get the correct input from user again and again until the correct input is recieved\n",
    "    #this increases the robustness of the program which means that the code is less likely to break or malfunction.\n",
    "    while True:\n",
    "        try:\n",
    "            number_of_subjects = int(input(\"Enter the number of subjects: \"))\n",
    "            if number_of_subjects > 0:\n",
    "                break\n",
    "            else:\n",
    "                print(\"number of subjects should be a natural number i.e (1,2,3....)\\n\")\n",
    "                continue\n",
    "        except ValueError:\n",
    "            print(\"the input needs to be a whole number\")\n",
    "            continue\n",
    "    sub_marks = get_sub_marks(number_of_subjects)\n",
    "    marks =list(sub_marks.values())\n",
    "    total_marks = sum(marks)\n",
    "    overall_percentage = (total_marks/(number_of_subjects*100))*100\n",
    "    grade = grade_generator(overall_percentage)\n",
    "    marks_printer(sub_marks)\n",
    "    print(f\"\\nTotal Marks Obtained: {total_marks}\\n\")\n",
    "    print(f\"Overall Percentage: {overall_percentage:.2f}%\\n\")\n",
    "    print(f\"Final Grade: {grade}\")\n",
    "\n",
    "\n",
    "def get_sub_marks(n): # n is the number of subjects\n",
    "    sub_marks = {}\n",
    "    for i in range(n):\n",
    "        subject = (input(\"\\nEnter the name of the subject: \"))\n",
    "    #same thing here too.\n",
    "    #adding try except block in the while loop to get the correct input from user again and again until the correct input is recieved\n",
    "    #this increases the robustness of the program which means that the code is less likely to break or malfunction.\n",
    "        while True:\n",
    "            try:\n",
    "                marks = int(input(\"Enter the  marks obtained (0-100): \"))\n",
    "                if 0<=marks<=100:\n",
    "                    break\n",
    "                else:\n",
    "                    print(\"Marks should be between 0-100\")\n",
    "                    continue\n",
    "            except ValueError:\n",
    "                print(\"the input needs to be a whole number\")\n",
    "        sub_marks.update({subject:int(marks)})\n",
    "        '''above line can also be written as:\n",
    "        sub_marks[subject] = marks'''\n",
    "        \n",
    "    return sub_marks\n",
    "\n",
    "\n",
    "def grade_generator(m): #m is the overall percentage\n",
    "    if m >= 90:\n",
    "        return 'A'\n",
    "    elif 90 > m >= 80: \n",
    "        return 'B'\n",
    "    elif 80 > m >= 70:\n",
    "        return 'C'\n",
    "    elif 70 > m >= 60:\n",
    "        return 'D'\n",
    "    else:\n",
    "        return 'F'\n",
    "        \n",
    "\n",
    "def marks_printer(dict1): #dict1 is the dictionary that stores the subjects and  marks\n",
    "    print(\"\\nSubject-wise marks are as follows:\")\n",
    "    for i in dict1:\n",
    "        print(f\"Subject: {i}, Marks: {dict1[i]}\")\n",
    "    # you can use the below code also but above one is much simpler \n",
    "''' for i in range(number_of_subjects):\n",
    "        print(f\"Subject: {list(sub_mark.keys())[i]}, Marks: {sub_mark[list(sub_mark.keys())[i]]}\")'''\n",
    "\n",
    "main()\n",
    "    "
   ]
  },
  {
   "cell_type": "code",
   "execution_count": null,
   "id": "874d48a5-404f-488e-976f-8a9b1de26e04",
   "metadata": {},
   "outputs": [],
   "source": []
  },
  {
   "cell_type": "markdown",
   "id": "86faa386-2e43-4762-a8a6-96afb2228128",
   "metadata": {},
   "source": [
    "## Assignment 2: Text Analysis Tool\n",
    "\n",
    "## Objective: Create a Python function that performs a basic analysis of a given piece of text.\n",
    "## Requirements:\n",
    "## Write a function that accepts a string of text as an argument.\n",
    "## Inside the function, calculate and return the following (perhaps as a dictionary or tuple):\n",
    "## Total word count.\n",
    "## Total character count (including spaces and punctuation).\n",
    "## Number of sentences (assume sentences end with '.', '!', or '?').\n",
    "## Frequency of each alphabetical character (case-insensitive, i.e., 'a' and 'A' are the same).\n",
    "## Ask the user to input a paragraph of text.\n",
    "## Call your function with the user's input and print the results in a well-formatted way.\n",
    "## Concepts Tested: Functions (defining and calling, passing arguments, returning values), string manipulation methods (.split(), .lower(), .isalpha(), ## etc.), loops, dictionaries, conditional statements."
   ]
  },
  {
   "cell_type": "code",
   "execution_count": 11,
   "id": "b6324657-6d3a-48dc-aef3-e1362f659933",
   "metadata": {},
   "outputs": [
    {
     "name": "stdin",
     "output_type": "stream",
     "text": [
      "Please Enter the text:\n",
      " 1234564_)((*\n"
     ]
    },
    {
     "name": "stdout",
     "output_type": "stream",
     "text": [
      "\n",
      "Text Analysis Tool:\n",
      "\n",
      "Total word count: 1\n",
      "\n",
      "Total character count: 12\n",
      "\n",
      "Total sentence count: 0\n",
      "\n",
      "Frequency of the Alphabets:\n"
     ]
    }
   ],
   "source": [
    "user_input = (input(\"Please Enter the text:\\n\")).lower()\n",
    "\n",
    "\n",
    "def text_analysis_tool(text):\n",
    "    '''\n",
    "    - The text analysis tool gives an analysis of the given text from the user,\n",
    "    - it gives us the total word count, number of sentences, total character count,\n",
    "    frequency of each alphabetical character\n",
    "    - Argument: (text) - it takes a paragraph of text from the user or even a sentence'''\n",
    "\n",
    "    print(\"\\nText Analysis Tool:\")\n",
    "    # counting the total words\n",
    "    word_count = len(list(text.split(\" \")))\n",
    "    # counting the total characters\n",
    "    character_count = 0\n",
    "    for i in text:\n",
    "        character_count+=1\n",
    "    # counting the total sentences\n",
    "    sentence_count = text.count(\".\") + text.count(\"?\") + text.count(\"!\")\n",
    "    # frequency of each alphabetical character\n",
    "    alphabets_count = {}\n",
    "    for char in text:\n",
    "        if char.isalpha():\n",
    "            alphabets_count[char] = text.count(char)\n",
    "    # printing all the requirements\n",
    "    print(f\"\\nTotal word count: {word_count}\")\n",
    "    print(f\"\\nTotal character count: {character_count}\")\n",
    "    print(f\"\\nTotal sentence count: {sentence_count}\")\n",
    "    print(f\"\\nFrequency of the Alphabets:\")\n",
    "    for key in alphabets_count:\n",
    "        print(f\"Alphabet: {key}, Count: {alphabets_count[key]}\")\n",
    "\n",
    "text_analysis_tool(user_input)"
   ]
  },
  {
   "cell_type": "code",
   "execution_count": null,
   "id": "d5b80eab-f327-4e33-ad5a-4c06dc3107a6",
   "metadata": {},
   "outputs": [],
   "source": []
  }
 ],
 "metadata": {
  "kernelspec": {
   "display_name": "Python 3 (ipykernel)",
   "language": "python",
   "name": "python3"
  },
  "language_info": {
   "codemirror_mode": {
    "name": "ipython",
    "version": 3
   },
   "file_extension": ".py",
   "mimetype": "text/x-python",
   "name": "python",
   "nbconvert_exporter": "python",
   "pygments_lexer": "ipython3",
   "version": "3.12.4"
  }
 },
 "nbformat": 4,
 "nbformat_minor": 5
}
