{
 "cells": [
  {
   "cell_type": "code",
   "execution_count": 11,
   "id": "744b24cf-11e1-43d0-9756-c2f05001d06f",
   "metadata": {},
   "outputs": [],
   "source": [
    "original_strings = [\"apple\", \"banana\", \"kiwi\", \"orange\", \"grape\"]"
   ]
  },
  {
   "cell_type": "code",
   "execution_count": 12,
   "id": "a9ffba92-9010-44c9-95a0-ffd0471738cb",
   "metadata": {},
   "outputs": [
    {
     "name": "stdout",
     "output_type": "stream",
     "text": [
      "[5, 6, 6, 5]\n"
     ]
    }
   ],
   "source": [
    "length_of_strings = [len(string) for string in original_strings if len(string) > 4]\n",
    "print(length_of_strings)"
   ]
  },
  {
   "cell_type": "code",
   "execution_count": 14,
   "id": "2101859a-91e7-4d60-8c13-dfb9b8a71883",
   "metadata": {},
   "outputs": [
    {
     "name": "stdout",
     "output_type": "stream",
     "text": [
      "[10, 100]\n"
     ]
    }
   ],
   "source": [
    "mixed_data = [10, \"hello\", 25.5, \"world\", -5, \"python\", 0.0, 100]\n",
    "positive_integers = [datapoint for datapoint in mixed_data if type(datapoint) is int and datapoint > 0]\n",
    "print(positive_integers)"
   ]
  },
  {
   "cell_type": "code",
   "execution_count": 15,
   "id": "d51789e2-ca4a-4850-bb93-11d73386a23a",
   "metadata": {},
   "outputs": [
    {
     "name": "stdout",
     "output_type": "stream",
     "text": [
      "['odd', 'even', 'odd', 'even', 'odd', 'even', 'odd', 'even', 'odd', 'even']\n"
     ]
    }
   ],
   "source": [
    "numbers = [1, 2, 3, 4, 5, 6, 7, 8, 9, 10]\n",
    "categorized_numbers = [\"even\" if num % 2 == 0 else \"odd\" for num in numbers]\n",
    "print(categorized_numbers)"
   ]
  },
  {
   "cell_type": "code",
   "execution_count": 17,
   "id": "9e426994-d02d-470a-90b7-3aed75401d9c",
   "metadata": {},
   "outputs": [
    {
     "name": "stdout",
     "output_type": "stream",
     "text": [
      "X\n",
      "[['O', ' ', ' '], [' ', 'X', ' '], ['O', ' ', ' ']]\n"
     ]
    }
   ],
   "source": [
    "tic_tac_toe_board = [\n",
    "    [\" \", \" \", \" \"],\n",
    "    [\" \", \"X\", \" \"],\n",
    "    [\"O\", \" \", \" \"]\n",
    "]\n",
    "print(tic_tac_toe_board[1][1])\n",
    "tic_tac_toe_board[0][0] = \"O\"\n",
    "print(tic_tac_toe_board)"
   ]
  },
  {
   "cell_type": "code",
   "execution_count": 21,
   "id": "437ab68c-b232-4bfb-be13-8f7a5c3815c7",
   "metadata": {},
   "outputs": [
    {
     "name": "stdout",
     "output_type": "stream",
     "text": [
      "Student: John Doe\n",
      "Age: 21\n",
      "Major: History\n",
      "Enrolled: September 2020 \n"
     ]
    }
   ],
   "source": [
    "student_record = (\"John Doe\", 21, \"History\", (2020, \"September\"))\n",
    "name, age, major, enrollment_details = student_record\n",
    "year, month = enrollment_details\n",
    "print(f\"Student: {name}\\nAge: {age}\\nMajor: {major}\\nEnrolled: {month} {year} \")"
   ]
  },
  {
   "cell_type": "code",
   "execution_count": 22,
   "id": "6f0aaedc-bec0-439c-a1c4-ba9515b41c65",
   "metadata": {},
   "outputs": [
    {
     "name": "stdout",
     "output_type": "stream",
     "text": [
      "Major: None\n"
     ]
    }
   ],
   "source": [
    "student = {\"name\": \"Alice\", \"age\": 20}\n",
    "print(f\"Major: {student.get('major')}\")"
   ]
  },
  {
   "cell_type": "code",
   "execution_count": 33,
   "id": "534bc3bf-6538-40ab-bea9-9d1fbdd1a953",
   "metadata": {},
   "outputs": [
    {
     "name": "stdout",
     "output_type": "stream",
     "text": [
      "List of fruit names: ['apples', 'bananas', 'cherries']\n",
      "Cherries are out of stock!\n",
      "Quantity of removed bananas: 15\n",
      "The final state of inventory: {'apples': 10, 'cherries': 0, 'grapes': 20}\n"
     ]
    }
   ],
   "source": [
    "inventory = {\"apples\": 10, \"bananas\": 15, \"cherries\": 0}\n",
    "list_of_fruits = [fruit for fruit in inventory.keys()]\n",
    "print(f\"List of fruit names: {list_of_fruits}\")\n",
    "\n",
    "inventory.setdefault(\"grapes\", 20)\n",
    "\n",
    "quantity_of_cherries = inventory.get(\"cherries\")\n",
    "if quantity_of_cherries in [0,None]:\n",
    "    print(\"Cherries are out of stock!\")\n",
    "else:\n",
    "    print(f\"Quantity of cherries: {quantity_of_cherries}\")\n",
    "quantity_of_bananas = inventory.pop(\"bananas\")\n",
    "print(f\"Quantity of removed bananas: {quantity_of_bananas}\")\n",
    "print(f\"The final state of inventory: {inventory}\")"
   ]
  },
  {
   "cell_type": "code",
   "execution_count": 35,
   "id": "1e8746dd-da19-4f4a-b9d2-0b745ca71cba",
   "metadata": {},
   "outputs": [
    {
     "name": "stdout",
     "output_type": "stream",
     "text": [
      "{1: 'a', 2: 'b', 3: 'c'}\n"
     ]
    }
   ],
   "source": [
    "original_dict = {\"a\": 1, \"b\": 2, \"c\": 3}\n",
    "swapped_dict = {value:key for key, value in original_dict.items()}\n",
    "print(swapped_dict)"
   ]
  },
  {
   "cell_type": "code",
   "execution_count": 39,
   "id": "533b1546-f2be-44eb-a385-8131ca1d0a14",
   "metadata": {},
   "outputs": [
    {
     "name": "stdout",
     "output_type": "stream",
     "text": [
      "{'h': 1, 'e': 1, 'l': 3, 'o': 2, 'w': 1, 'r': 1, 'd': 1}\n"
     ]
    }
   ],
   "source": [
    "text = \"hello world\"\n",
    "char_counts = {char:text.count(char) for char in text.lower().replace(\" \",\"\")}\n",
    "print(char_counts)"
   ]
  },
  {
   "cell_type": "code",
   "execution_count": 44,
   "id": "410bc044-38c9-4e3c-94c5-95bb7b175e0d",
   "metadata": {},
   "outputs": [
    {
     "name": "stdout",
     "output_type": "stream",
     "text": [
      "{'orange': '€0.68', 'grape': '€1.08', 'kiwi': '€0.54'}\n"
     ]
    }
   ],
   "source": [
    "prices = {\"apple\": 0.5, \"banana\": 0.25, \"orange\": 0.75, \"grape\": 1.20, \"kiwi\": 0.60}\n",
    "expensive_fruits_in_euros = {fruit:f\"€{price*0.9:.2f}\" for fruit, price in prices.items() if price > 0.5}\n",
    "print(expensive_fruits_in_euros)"
   ]
  },
  {
   "cell_type": "code",
   "execution_count": 45,
   "id": "84e9b5ff-c5d2-4774-9668-88a56fd585e8",
   "metadata": {},
   "outputs": [
    {
     "name": "stdout",
     "output_type": "stream",
     "text": [
      "{'Alice': {'Math': 0, 'Science': 0, 'History': 0}, 'Bob': {'Math': 0, 'Science': 0, 'History': 0}, 'Charlie': {'Math': 0, 'Science': 0, 'History': 0}}\n"
     ]
    }
   ],
   "source": [
    "students = [\"Alice\", \"Bob\", \"Charlie\"]\n",
    "subjects = [\"Math\", \"Science\", \"History\"]\n",
    "students_grades = {student:{subject:0 for subject in subjects} for student in students}\n",
    "print(students_grades)"
   ]
  },
  {
   "cell_type": "code",
   "execution_count": 49,
   "id": "be5536fe-8734-4b7f-a9ce-3797a3e0adb9",
   "metadata": {},
   "outputs": [
    {
     "name": "stdout",
     "output_type": "stream",
     "text": [
      "all ingredients that are common to both recipes are: {'flour', 'butter', 'eggs'}\n",
      "all unique ingredients needed to make both recipies are: {'milk', 'butter', 'eggs', 'flour', 'chocolate', 'vanilla', 'sugar'}\n",
      "Ingredients specific to recipe1 are: {'sugar', 'vanilla'}\n"
     ]
    }
   ],
   "source": [
    "recipe1_ingredients = [\"flour\", \"sugar\", \"eggs\", \"butter\", \"vanilla\"]\n",
    "recipe2_ingredients = [\"flour\", \"eggs\", \"milk\", \"chocolate\", \"butter\"]\n",
    "set_of_recipe1 = set(recipe1_ingredients)\n",
    "set_of_recipe2 = set(recipe2_ingredients)\n",
    "ingredients_specific_set1 = set_of_recipe1 - set_of_recipe2\n",
    "ingredients_common = set_of_recipe1.intersection(set_of_recipe2)\n",
    "all_unique_ingredients = set_of_recipe1 | set_of_recipe2\n",
    "print(f\"all ingredients that are common to both recipes are: {ingredients_common}\")\n",
    "print(f\"all unique ingredients needed to make both recipies are: {all_unique_ingredients}\")\n",
    "print(f\"Ingredients specific to recipe1 are: {ingredients_specific_set1}\")"
   ]
  },
  {
   "cell_type": "markdown",
   "id": "08b2484d-b51c-4fdd-9172-e7371198e71d",
   "metadata": {},
   "source": [
    "## Functions, Parameters, arguments\n",
    "### Task 1: Medium Difficulty - Flexible Greeting Formatter\n",
    "### Write a Python function called format_greeting that takes a person's name (required positional argument) and an optional title (keyword argument, e.g., \"Mr.\", \"Dr.\", \"Ms.\").\n",
    "### The function should also accept any number of additional string arguments which represent \"hobbies\" (*args).\n",
    "### The function should also accept any number of additional keyword arguments which represent \"attributes\" like city=\"CityName\", profession=\"JobTitle\" (**kwargs).\n",
    "### The function should return a formatted multi-line string.\n",
    "### The first line should be \"Hello, [Title] [Name]!\" (If no title is provided, it should just be \"Hello, [Name]!\").\n",
    "### If hobbies are provided, the next line should be \"I see you enjoy: [hobby1], [hobby2], ... .\"\n",
    "### If attributes are provided, each subsequent line should list an attribute: \"[AttributeName]: [AttributeValue]\"."
   ]
  },
  {
   "cell_type": "code",
   "execution_count": 30,
   "id": "dc1ae1c2-129f-430e-afab-b4eb1e3b6d6a",
   "metadata": {},
   "outputs": [],
   "source": [
    "def format_greeting(name, *hobbies, title=None, **attributes):\n",
    "    if title:\n",
    "        print(f\"Hello, {title} {name}!\")\n",
    "    else:\n",
    "        print(f\"Hello, {name}!\")\n",
    "        \n",
    "    if hobbies: \n",
    "        print(f\"I see you enjoy:{str(hobbies).lstrip('(\"').rstrip('\")')}\")\n",
    "    if attributes:\n",
    "        for attribute in attributes:\n",
    "            attributes_summary = (f\"{attribute}: {attributes[attribute]}\")\n",
    "            print(attributes_summary)\n",
    "        "
   ]
  },
  {
   "cell_type": "code",
   "execution_count": 31,
   "id": "dc64b139-2561-48a7-ac88-9a4217265da9",
   "metadata": {},
   "outputs": [
    {
     "name": "stdout",
     "output_type": "stream",
     "text": [
      "Hello, Omer!\n",
      "I see you enjoy:'Reading', 'Gaming', 'Gym'\n",
      "Age: 22\n",
      "IQ_Level: High\n"
     ]
    }
   ],
   "source": [
    "format_greeting(\"Omer\", \"Reading\", \"Gaming\", \"Gym\", Age=22, IQ_Level=\"High\")"
   ]
  },
  {
   "cell_type": "code",
   "execution_count": 22,
   "id": "b9ed5db5-8b82-4240-b489-f5cafc6b4aae",
   "metadata": {},
   "outputs": [
    {
     "name": "stdout",
     "output_type": "stream",
     "text": [
      "Hello, Dr. Diana!\n",
      "city: New York\n",
      "profession: Scientist\n"
     ]
    }
   ],
   "source": [
    "format_greeting(\"Diana\", title=\"Dr.\", city=\"New York\", profession=\"Scientist\")"
   ]
  },
  {
   "cell_type": "code",
   "execution_count": 28,
   "id": "e3957a20-1ef0-4f0c-b335-9d6408f04559",
   "metadata": {},
   "outputs": [
    {
     "name": "stdout",
     "output_type": "stream",
     "text": [
      "Hello, Sir Edward!\n",
      "I see you enjoy:'gaming', 'coding'\n",
      "status: Online\n",
      "team: Blue\n"
     ]
    }
   ],
   "source": [
    "format_greeting(\"Edward\", \"gaming\", \"coding\", title=\"Sir\", status=\"Online\", team=\"Blue\")"
   ]
  },
  {
   "cell_type": "markdown",
   "id": "bf45af8e-697d-4c7b-b0f0-1e2675a7cb3c",
   "metadata": {},
   "source": [
    "#### Task 2: Hard Difficulty - Dynamic Data Processor\n",
    "- Write a Python function called process_data that can handle various types of data records.\n",
    "- It must accept a record_id (required positional argument).\n",
    "- It must accept an arbitrary number of positional arguments (*data_points) which represent raw numerical data points for the record.\n",
    "- It must accept an arbitrary number of keyword arguments (**metadata) which represent descriptive metadata for the record.\n",
    "#### The function should perform the following:\n",
    "- Calculate the sum and average of the data_points. If no data_points are provided, sum should be 0 and average should be 0.\n",
    "- Construct a summary dictionary. This dictionary should always include:\n",
    "- 'id': the record_id\n",
    "- 'data_sum': the calculated sum\n",
    "- 'data_average': the calculated average\n",
    "- 'num_data_points': the count of data_points\n",
    "- All metadata provided as keyword arguments should also be added to this summary dictionary.\n",
    "- There's a special metadata key: status. If status is provided in **metadata and its value is \"processed\", the function should update a key          '-is_valid' with a value True to the summary dictionary. Otherwise, if status is \"pending\" or status is not provided at all, 'is_valid' should be - --False. For any other status value, 'is_valid' should also be False.\n",
    "- The function should return the constructed summary dictionary.\n",
    "\n",
    "Example Calls and Expected Return Dictionaries:\n",
    "#### process_data(\"REC001\", 10, 20, 30, source=\"SensorA\", unit=\"température\")\n",
    "#### Expected: {'id': 'REC001', 'data_sum': 60, 'data_average': 20.0, 'num_data_points': 3, 'source': 'SensorA', 'unit': 'température', 'is_valid': False}\n",
    "\n",
    "#### process_data(\"REC002\", status=\"processed\", reliability=0.95)\n",
    "#### Expected: {'id': 'REC002', 'data_sum': 0, 'data_average': 0, 'num_data_points': 0, 'status': 'processed', 'reliability': 0.95, 'is_valid': True}\n",
    "\n",
    "#### process_data(\"REC003\", 1, 2, 3, 4, 5, status=\"pending\")\n",
    "#### Expected: {'id': 'REC003', 'data_sum': 15, 'data_average': 3.0, 'num_data_points': 5, 'status': 'pending', 'is_valid': False}\n",
    "\n",
    "#### process_data(\"REC004\", 100, 200, status=\"error_flagged\")\n",
    "#### Expected: {'id': 'REC004', 'data_sum': 300, 'data_average': 150.0, 'num_data_points': 2, 'status': 'error_flagged', 'is_valid': False}"
   ]
  },
  {
   "cell_type": "code",
   "execution_count": 18,
   "id": "affeea7d-2450-41ac-b4a9-5fe5c4ebef3c",
   "metadata": {},
   "outputs": [],
   "source": [
    "def process_data(record_id:str, *data_points_args:int or float, **meta_data_kw_args: str) -> dict:\n",
    "    \"\"\"It takes user details, data points, meta data.\n",
    "       It calculates sum, avg and count of the data points.\n",
    "       It creates a summary dictionary of the above details and returns it.\n",
    "       It takes record_id as positional parameter, *data_points_args as arbitrary arguments, **meta_data_kw_args as arbitrary keyword arguments\"\"\"\n",
    "    if data_points_args:\n",
    "        sum_data_points = sum(data_points_args)\n",
    "        avg_data_points = (sum(data_points_args))/len(data_points_args)\n",
    "        num_data_points = len(data_points_args)\n",
    "    else:\n",
    "        sum_data_points = 0\n",
    "        avg_data_points = 0\n",
    "        num_data_points = 0\n",
    "\n",
    "    summary_dict = {\"id\": record_id, \"data_sum\": sum_data_points, \"data_average\": avg_data_points, \"num_data_points\": num_data_points}\n",
    "    if meta_data_kw_args:\n",
    "        summary_dict.update(meta_data_kw_args)\n",
    "    if summary_dict.get(\"status\") == \"processed\":\n",
    "        summary_dict.update({\"is_valid\": True})\n",
    "    else:\n",
    "        summary_dict.update({\"is_valid\": False})\n",
    "\n",
    "    return summary_dict\n",
    "    "
   ]
  },
  {
   "cell_type": "code",
   "execution_count": 21,
   "id": "f94eadb9-c9c3-4778-a3aa-771544e3aeb4",
   "metadata": {},
   "outputs": [
    {
     "name": "stdout",
     "output_type": "stream",
     "text": [
      "{'id': 'REC001', 'data_sum': 60, 'data_average': 20.0, 'num_data_points': 3, 'source': 'SensorA', 'unit': 'température', 'is_valid': False}\n",
      "{'id': 'REC002', 'data_sum': 0, 'data_average': 0, 'num_data_points': 0, 'status': 'processed', 'reliability': 0.95, 'is_valid': True}\n",
      "{'id': 'REC003', 'data_sum': 15, 'data_average': 3.0, 'num_data_points': 5, 'status': 'pending', 'is_valid': False}\n",
      "{'id': 'REC004', 'data_sum': 300, 'data_average': 150.0, 'num_data_points': 2, 'status': 'error_flagged', 'is_valid': False}\n"
     ]
    }
   ],
   "source": [
    "print(process_data(\"REC001\", 10, 20, 30, source=\"SensorA\", unit=\"température\"))\n",
    "print(process_data(\"REC002\", status=\"processed\", reliability=0.95))\n",
    "print(process_data(\"REC003\", 1, 2, 3, 4, 5, status=\"pending\"))\n",
    "print(process_data(\"REC004\", 100, 200, status=\"error_flagged\"))"
   ]
  },
  {
   "cell_type": "code",
   "execution_count": null,
   "id": "adc13f24-bb1f-454e-be60-d797212e6f22",
   "metadata": {},
   "outputs": [],
   "source": []
  },
  {
   "cell_type": "markdown",
   "id": "a2ab7117-7a75-4908-a416-2737c0fdc92b",
   "metadata": {},
   "source": [
    "### You have a list of names: names = [\"David Copperfield\", \"Alice Wonderland\", \"Bob The Builder\"]\n",
    "### Using the sorted() function and a lambda function as the key, sort this list of names based on their last name. (Assume names are \"First Last\" or \"First Middle Last\")."
   ]
  },
  {
   "cell_type": "code",
   "execution_count": 23,
   "id": "7d9d8a98-d6de-4502-9055-f568cf8b6dcf",
   "metadata": {},
   "outputs": [
    {
     "data": {
      "text/plain": [
       "['Bob The Builder', 'David Copperfield', 'Alice Wonderland']"
      ]
     },
     "execution_count": 23,
     "metadata": {},
     "output_type": "execute_result"
    }
   ],
   "source": [
    "names = [\"David Copperfield\", \"Alice Wonderland\", \"Bob The Builder\"]\n",
    "sorted(names,key=lambda name: name.split(\" \")[-1])"
   ]
  },
  {
   "cell_type": "markdown",
   "id": "e56912f5-b4f8-4937-95ca-06d8fa69c111",
   "metadata": {},
   "source": [
    "#### Task 1: Medium Difficulty - Conditional Transformation with map and lambda\n",
    "#### You have a list of numbers: numbers = [-5, 10, 0, -2, 7, 3, -8]\n",
    "#### Your goal is to create a new list called transformed_numbers where:\n",
    "- If a number is positive, it should be squared.\n",
    "- If a number is negative, it should be converted to its absolute value.\n",
    "- If a number is zero, it should remain zero.\n",
    "- Use the map() function and a single lambda function to achieve this transformation.\n",
    "#### Example Expected Output:\n",
    "- For numbers = [-5, 10, 0, -2, 7, 3, -8],\n",
    "- transformed_numbers should be [5, 100, 0, 2, 49, 9, 8]\n",
    "#### Hint: A lambda function's expression can include a conditional expression ( value_if_true if condition else value_if_false). You might need to nest these for three conditions or handle zero as part of one of the conditions."
   ]
  },
  {
   "cell_type": "code",
   "execution_count": 33,
   "id": "afa094fa-d6b4-48e1-b383-89b03b39a2fe",
   "metadata": {},
   "outputs": [
    {
     "name": "stdout",
     "output_type": "stream",
     "text": [
      "[5, 100, 0, 2, 49, 8]\n"
     ]
    }
   ],
   "source": [
    "numbers = [-5,10,0,-2,7,-8]\n",
    "transformed_numbers = list(map(lambda number: abs(number) if str(number).startswith(\"-\") else number**2, numbers))\n",
    "print(transformed_numbers)"
   ]
  },
  {
   "cell_type": "markdown",
   "id": "a294c8d7-6ff1-401f-8500-7d97d42730c3",
   "metadata": {},
   "source": [
    "#### Task 2: Hard Difficulty - Advanced Filtering and Mapping with filter, map, and lambda\n",
    "#### You have a list of dictionaries, where each dictionary represents a product with a name, price, and category:\n",
    "#### products = [\n",
    "    {\"name\": \"Laptop\", \"price\": 1200, \"category\": \"Electronics\"},\n",
    "    {\"name\": \"Coffee Maker\", \"price\": 50, \"category\": \"Appliances\"},\n",
    "    {\"name\": \"Desk Chair\", \"price\": 150, \"category\": \"Furniture\"},\n",
    "    {\"name\": \"Smartphone\", \"price\": 800, \"category\": \"Electronics\"},\n",
    "    {\"name\": \"Blender\", \"price\": 70, \"category\": \"Appliances\"},\n",
    "    {\"name\": \"Bookshelf\", \"price\": 90, \"category\": \"Furniture\"},\n",
    "    {\"name\": \"Headphones\", \"price\": 120, \"category\": \"Electronics\"}\n",
    "    ]\n",
    "#### Use code with caution.\n",
    "#### Python\n",
    "#### Your goal is to perform a series of operations to get a specific result:\n",
    "#### First, filter the products list to get only those products that belong to the \"Electronics\" category AND have a price greater than $100.\n",
    "#### From this filtered list of electronic products, you then want to create a new list containing formatted strings. Each string should describe the product and its price with a 10% discount applied, formatted like: \"Product: [Name] - Discounted Price: $[Discounted Price]\"\n",
    "#### The discounted price should be rounded to two decimal places.\n",
    "#### You should try to achieve this using a combination of filter(), map(), and lambda functions. You might need to chain them or use intermediate lists if that makes it clearer.\n",
    "#### Example Expected Output (for the given products list):\n",
    "#### A list of strings like:\n",
    "['Product: Laptop - Discounted Price: $1080.00', 'Product: Smartphone - Discounted Price: $720.00', 'Product: Headphones - Discounted Price: $108.00']\n",
    "#### (Order might depend on the stability of filter/map if not explicitly sorted, but the content should match).\n",
    "T###hese tasks will challenge your ability to construct more complex lambda functions and use them effectively with map and filter. Take your time and break down the logic for each step. Good luck!"
   ]
  }
 ],
 "metadata": {
  "kernelspec": {
   "display_name": "Python 3 (ipykernel)",
   "language": "python",
   "name": "python3"
  },
  "language_info": {
   "codemirror_mode": {
    "name": "ipython",
    "version": 3
   },
   "file_extension": ".py",
   "mimetype": "text/x-python",
   "name": "python",
   "nbconvert_exporter": "python",
   "pygments_lexer": "ipython3",
   "version": "3.12.4"
  }
 },
 "nbformat": 4,
 "nbformat_minor": 5
}
