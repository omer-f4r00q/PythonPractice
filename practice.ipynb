{
 "cells": [
  {
   "cell_type": "code",
   "execution_count": 11,
   "id": "744b24cf-11e1-43d0-9756-c2f05001d06f",
   "metadata": {},
   "outputs": [],
   "source": [
    "original_strings = [\"apple\", \"banana\", \"kiwi\", \"orange\", \"grape\"]"
   ]
  },
  {
   "cell_type": "code",
   "execution_count": 12,
   "id": "a9ffba92-9010-44c9-95a0-ffd0471738cb",
   "metadata": {},
   "outputs": [
    {
     "name": "stdout",
     "output_type": "stream",
     "text": [
      "[5, 6, 6, 5]\n"
     ]
    }
   ],
   "source": [
    "length_of_strings = [len(string) for string in original_strings if len(string) > 4]\n",
    "print(length_of_strings)"
   ]
  },
  {
   "cell_type": "code",
   "execution_count": 14,
   "id": "2101859a-91e7-4d60-8c13-dfb9b8a71883",
   "metadata": {},
   "outputs": [
    {
     "name": "stdout",
     "output_type": "stream",
     "text": [
      "[10, 100]\n"
     ]
    }
   ],
   "source": [
    "mixed_data = [10, \"hello\", 25.5, \"world\", -5, \"python\", 0.0, 100]\n",
    "positive_integers = [datapoint for datapoint in mixed_data if type(datapoint) is int and datapoint > 0]\n",
    "print(positive_integers)"
   ]
  },
  {
   "cell_type": "code",
   "execution_count": 15,
   "id": "d51789e2-ca4a-4850-bb93-11d73386a23a",
   "metadata": {},
   "outputs": [
    {
     "name": "stdout",
     "output_type": "stream",
     "text": [
      "['odd', 'even', 'odd', 'even', 'odd', 'even', 'odd', 'even', 'odd', 'even']\n"
     ]
    }
   ],
   "source": [
    "numbers = [1, 2, 3, 4, 5, 6, 7, 8, 9, 10]\n",
    "categorized_numbers = [\"even\" if num % 2 == 0 else \"odd\" for num in numbers]\n",
    "print(categorized_numbers)"
   ]
  },
  {
   "cell_type": "code",
   "execution_count": 17,
   "id": "9e426994-d02d-470a-90b7-3aed75401d9c",
   "metadata": {},
   "outputs": [
    {
     "name": "stdout",
     "output_type": "stream",
     "text": [
      "X\n",
      "[['O', ' ', ' '], [' ', 'X', ' '], ['O', ' ', ' ']]\n"
     ]
    }
   ],
   "source": [
    "tic_tac_toe_board = [\n",
    "    [\" \", \" \", \" \"],\n",
    "    [\" \", \"X\", \" \"],\n",
    "    [\"O\", \" \", \" \"]\n",
    "]\n",
    "print(tic_tac_toe_board[1][1])\n",
    "tic_tac_toe_board[0][0] = \"O\"\n",
    "print(tic_tac_toe_board)"
   ]
  },
  {
   "cell_type": "code",
   "execution_count": 21,
   "id": "437ab68c-b232-4bfb-be13-8f7a5c3815c7",
   "metadata": {},
   "outputs": [
    {
     "name": "stdout",
     "output_type": "stream",
     "text": [
      "Student: John Doe\n",
      "Age: 21\n",
      "Major: History\n",
      "Enrolled: September 2020 \n"
     ]
    }
   ],
   "source": [
    "student_record = (\"John Doe\", 21, \"History\", (2020, \"September\"))\n",
    "name, age, major, enrollment_details = student_record\n",
    "year, month = enrollment_details\n",
    "print(f\"Student: {name}\\nAge: {age}\\nMajor: {major}\\nEnrolled: {month} {year} \")"
   ]
  },
  {
   "cell_type": "code",
   "execution_count": 22,
   "id": "6f0aaedc-bec0-439c-a1c4-ba9515b41c65",
   "metadata": {},
   "outputs": [
    {
     "name": "stdout",
     "output_type": "stream",
     "text": [
      "Major: None\n"
     ]
    }
   ],
   "source": [
    "student = {\"name\": \"Alice\", \"age\": 20}\n",
    "print(f\"Major: {student.get('major')}\")"
   ]
  },
  {
   "cell_type": "code",
   "execution_count": 33,
   "id": "534bc3bf-6538-40ab-bea9-9d1fbdd1a953",
   "metadata": {},
   "outputs": [
    {
     "name": "stdout",
     "output_type": "stream",
     "text": [
      "List of fruit names: ['apples', 'bananas', 'cherries']\n",
      "Cherries are out of stock!\n",
      "Quantity of removed bananas: 15\n",
      "The final state of inventory: {'apples': 10, 'cherries': 0, 'grapes': 20}\n"
     ]
    }
   ],
   "source": [
    "inventory = {\"apples\": 10, \"bananas\": 15, \"cherries\": 0}\n",
    "list_of_fruits = [fruit for fruit in inventory.keys()]\n",
    "print(f\"List of fruit names: {list_of_fruits}\")\n",
    "\n",
    "inventory.setdefault(\"grapes\", 20)\n",
    "\n",
    "quantity_of_cherries = inventory.get(\"cherries\")\n",
    "if quantity_of_cherries in [0,None]:\n",
    "    print(\"Cherries are out of stock!\")\n",
    "else:\n",
    "    print(f\"Quantity of cherries: {quantity_of_cherries}\")\n",
    "quantity_of_bananas = inventory.pop(\"bananas\")\n",
    "print(f\"Quantity of removed bananas: {quantity_of_bananas}\")\n",
    "print(f\"The final state of inventory: {inventory}\")"
   ]
  },
  {
   "cell_type": "code",
   "execution_count": 35,
   "id": "1e8746dd-da19-4f4a-b9d2-0b745ca71cba",
   "metadata": {},
   "outputs": [
    {
     "name": "stdout",
     "output_type": "stream",
     "text": [
      "{1: 'a', 2: 'b', 3: 'c'}\n"
     ]
    }
   ],
   "source": [
    "original_dict = {\"a\": 1, \"b\": 2, \"c\": 3}\n",
    "swapped_dict = {value:key for key, value in original_dict.items()}\n",
    "print(swapped_dict)"
   ]
  },
  {
   "cell_type": "code",
   "execution_count": 39,
   "id": "533b1546-f2be-44eb-a385-8131ca1d0a14",
   "metadata": {},
   "outputs": [
    {
     "name": "stdout",
     "output_type": "stream",
     "text": [
      "{'h': 1, 'e': 1, 'l': 3, 'o': 2, 'w': 1, 'r': 1, 'd': 1}\n"
     ]
    }
   ],
   "source": [
    "text = \"hello world\"\n",
    "char_counts = {char:text.count(char) for char in text.lower().replace(\" \",\"\")}\n",
    "print(char_counts)"
   ]
  },
  {
   "cell_type": "code",
   "execution_count": 44,
   "id": "410bc044-38c9-4e3c-94c5-95bb7b175e0d",
   "metadata": {},
   "outputs": [
    {
     "name": "stdout",
     "output_type": "stream",
     "text": [
      "{'orange': '€0.68', 'grape': '€1.08', 'kiwi': '€0.54'}\n"
     ]
    }
   ],
   "source": [
    "prices = {\"apple\": 0.5, \"banana\": 0.25, \"orange\": 0.75, \"grape\": 1.20, \"kiwi\": 0.60}\n",
    "expensive_fruits_in_euros = {fruit:f\"€{price*0.9:.2f}\" for fruit, price in prices.items() if price > 0.5}\n",
    "print(expensive_fruits_in_euros)"
   ]
  },
  {
   "cell_type": "code",
   "execution_count": 45,
   "id": "84e9b5ff-c5d2-4774-9668-88a56fd585e8",
   "metadata": {},
   "outputs": [
    {
     "name": "stdout",
     "output_type": "stream",
     "text": [
      "{'Alice': {'Math': 0, 'Science': 0, 'History': 0}, 'Bob': {'Math': 0, 'Science': 0, 'History': 0}, 'Charlie': {'Math': 0, 'Science': 0, 'History': 0}}\n"
     ]
    }
   ],
   "source": [
    "students = [\"Alice\", \"Bob\", \"Charlie\"]\n",
    "subjects = [\"Math\", \"Science\", \"History\"]\n",
    "students_grades = {student:{subject:0 for subject in subjects} for student in students}\n",
    "print(students_grades)"
   ]
  },
  {
   "cell_type": "code",
   "execution_count": 49,
   "id": "be5536fe-8734-4b7f-a9ce-3797a3e0adb9",
   "metadata": {},
   "outputs": [
    {
     "name": "stdout",
     "output_type": "stream",
     "text": [
      "all ingredients that are common to both recipes are: {'flour', 'butter', 'eggs'}\n",
      "all unique ingredients needed to make both recipies are: {'milk', 'butter', 'eggs', 'flour', 'chocolate', 'vanilla', 'sugar'}\n",
      "Ingredients specific to recipe1 are: {'sugar', 'vanilla'}\n"
     ]
    }
   ],
   "source": [
    "recipe1_ingredients = [\"flour\", \"sugar\", \"eggs\", \"butter\", \"vanilla\"]\n",
    "recipe2_ingredients = [\"flour\", \"eggs\", \"milk\", \"chocolate\", \"butter\"]\n",
    "set_of_recipe1 = set(recipe1_ingredients)\n",
    "set_of_recipe2 = set(recipe2_ingredients)\n",
    "ingredients_specific_set1 = set_of_recipe1 - set_of_recipe2\n",
    "ingredients_common = set_of_recipe1.intersection(set_of_recipe2)\n",
    "all_unique_ingredients = set_of_recipe1 | set_of_recipe2\n",
    "print(f\"all ingredients that are common to both recipes are: {ingredients_common}\")\n",
    "print(f\"all unique ingredients needed to make both recipies are: {all_unique_ingredients}\")\n",
    "print(f\"Ingredients specific to recipe1 are: {ingredients_specific_set1}\")"
   ]
  },
  {
   "cell_type": "code",
   "execution_count": null,
   "id": "27d8289f-bbf8-40ec-8210-df0eb9c2d044",
   "metadata": {},
   "outputs": [],
   "source": []
  }
 ],
 "metadata": {
  "kernelspec": {
   "display_name": "Python 3 (ipykernel)",
   "language": "python",
   "name": "python3"
  },
  "language_info": {
   "codemirror_mode": {
    "name": "ipython",
    "version": 3
   },
   "file_extension": ".py",
   "mimetype": "text/x-python",
   "name": "python",
   "nbconvert_exporter": "python",
   "pygments_lexer": "ipython3",
   "version": "3.12.4"
  }
 },
 "nbformat": 4,
 "nbformat_minor": 5
}
