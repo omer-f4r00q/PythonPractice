{
 "cells": [
  {
   "cell_type": "code",
   "execution_count": 13,
   "id": "58017018-06e6-4799-9254-750d2b925ef0",
   "metadata": {},
   "outputs": [
    {
     "name": "stdout",
     "output_type": "stream",
     "text": [
      "This is the current timestamp: 2025-07-06 20:08:12\n",
      "This is the log entry we are going to add to the app.log file: [2025-07-06 20:08:12] - Program started.\n",
      "\n",
      "Opened the app.log file in append mode.\n",
      "Wrote a line in the file.\n",
      "Now the file is closed\n",
      "This is the current timestamp: 2025-07-06 20:08:12\n",
      "This is the log entry we are going to add to the app.log file: [2025-07-06 20:08:12] - User performed an action.\n",
      "\n",
      "Opened the app.log file in append mode.\n",
      "Wrote a line in the file.\n",
      "Now the file is closed\n",
      "This is the current timestamp: 2025-07-06 20:08:12\n",
      "This is the log entry we are going to add to the app.log file: [2025-07-06 20:08:12] - Program finished.\n",
      "\n",
      "Opened the app.log file in append mode.\n",
      "Wrote a line in the file.\n",
      "Now the file is closed\n",
      "[2025-07-06 20:08:12] - Program started.\n",
      "[2025-07-06 20:08:12] - User performed an action.\n",
      "[2025-07-06 20:08:12] - Program finished.\n",
      "\n"
     ]
    }
   ],
   "source": [
    "import datetime\n",
    "\n",
    "def log_event(message):\n",
    "    timestamp = datetime.datetime.now().strftime(\"%Y-%m-%d %H:%M:%S\")\n",
    "    print(f\"This is the current timestamp: {timestamp}\")\n",
    "    log_entry_str = f\"[{timestamp}] - {message}\\n\"\n",
    "    print(f\"This is the log entry we are going to add to the app.log file: {log_entry_str}\")\n",
    "    with open(\"app.log\", \"a\") as file:\n",
    "        print(\"Opened the app.log file in append mode.\")\n",
    "        file.write(log_entry_str)\n",
    "        print(\"Wrote a line in the file.\")\n",
    "    print(\"Now the file is closed\")\n",
    "    \n",
    "log_event(\"Program started.\")\n",
    "log_event(\"User performed an action.\")\n",
    "log_event(\"Program finished.\")\n",
    "\n",
    "with open(\"app.log\", \"r\") as file:\n",
    "    log_record = file.read()\n",
    "\n",
    "print(log_record)"
   ]
  },
  {
   "cell_type": "code",
   "execution_count": null,
   "id": "c44e539d-eefa-4d36-83ae-0f0ad93ac340",
   "metadata": {},
   "outputs": [],
   "source": []
  }
 ],
 "metadata": {
  "kernelspec": {
   "display_name": "Python 3 (ipykernel)",
   "language": "python",
   "name": "python3"
  },
  "language_info": {
   "codemirror_mode": {
    "name": "ipython",
    "version": 3
   },
   "file_extension": ".py",
   "mimetype": "text/x-python",
   "name": "python",
   "nbconvert_exporter": "python",
   "pygments_lexer": "ipython3",
   "version": "3.12.4"
  }
 },
 "nbformat": 4,
 "nbformat_minor": 5
}
